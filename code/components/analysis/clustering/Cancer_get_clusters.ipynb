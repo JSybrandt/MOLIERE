{
 "cells": [
  {
   "cell_type": "code",
   "execution_count": 1,
   "metadata": {
    "collapsed": true
   },
   "outputs": [],
   "source": [
    "import pandas as pd\n",
    "\n",
    "import numpy as np\n",
    "import scipy as sp\n",
    "# from scipy.sparse import csr_matrix \n",
    "# from sklearn.metrics.pairwise import cosine_similarity\n",
    "import timeit\n",
    "from scipy.cluster.hierarchy import dendrogram, linkage, to_tree\n",
    "from scipy.cluster.hierarchy import ClusterNode, fcluster, inconsistent\n",
    "import matplotlib.pylab as plt"
   ]
  },
  {
   "cell_type": "code",
   "execution_count": 2,
   "metadata": {
    "collapsed": true
   },
   "outputs": [],
   "source": [
    "input_path='/scratch2/esadrfa/moliere/cancer/'\n",
    "linkage_file='linkage_mat'"
   ]
  },
  {
   "cell_type": "code",
   "execution_count": 3,
   "metadata": {},
   "outputs": [
    {
     "name": "stdout",
     "output_type": "stream",
     "text": [
      "Time: 0.0 seconds\n"
     ]
    }
   ],
   "source": [
    "start = timeit.default_timer()\n",
    "Z = np.load(input_path + linkage_file + '.npy')\n",
    "\n",
    "stop = timeit.default_timer()\n",
    "print(\"Time: %.1f seconds\" % (stop - start))"
   ]
  },
  {
   "cell_type": "code",
   "execution_count": 15,
   "metadata": {},
   "outputs": [
    {
     "name": "stdout",
     "output_type": "stream",
     "text": [
      "<scipy.cluster.hierarchy.ClusterNode object at 0x2b566e8c58d0>\n",
      "573\n"
     ]
    }
   ],
   "source": [
    "print(rootnode)\n",
    "\n",
    "print(len(nodelist))"
   ]
  },
  {
   "cell_type": "code",
   "execution_count": 23,
   "metadata": {},
   "outputs": [
    {
     "name": "stdout",
     "output_type": "stream",
     "text": [
      "left branch has 6 levels, \n",
      "\tdetail [572, 570, 567, 527, 495, 360]\n",
      "right branch has 10 levels, \n",
      "\tdetail [572, 571, 562, 554, 534, 529, 497, 480, 438, 335]\n"
     ]
    }
   ],
   "source": [
    "main_rootnode, nodelist = to_tree(Z, rd=True)\n",
    "\n",
    "lst_lefts=[]\n",
    "lst_rights=[]\n",
    "\n",
    "cnt = 0\n",
    "max_levels=20\n",
    "rootnode = main_rootnode\n",
    "while (cnt < max_levels and not rootnode.is_leaf()):\n",
    "    lst_lefts.append(rootnode.get_id())\n",
    "    cnt += 1 \n",
    "    rootnode = rootnode.get_left()\n",
    "    \n",
    "cnt = 0\n",
    "rootnode = main_rootnode\n",
    "while (cnt <  max_levels and not rootnode.is_leaf()):\n",
    "    lst_rights.append(rootnode.get_id())\n",
    "    cnt += 1 \n",
    "    rootnode = rootnode.get_right()\n",
    "\n",
    "print('left branch has {} levels, \\n\\tdetail {}'.format(len(lst_lefts),lst_lefts))\n",
    "print('right branch has {} levels, \\n\\tdetail {}'.format(len(lst_rights),lst_rights))\n",
    "\n",
    "rootnode = main_rootnode"
   ]
  },
  {
   "cell_type": "code",
   "execution_count": 25,
   "metadata": {},
   "outputs": [
    {
     "name": "stdout",
     "output_type": "stream",
     "text": [
      "<scipy.cluster.hierarchy.ClusterNode object at 0x2b566e8f4c88>\n",
      "573\n"
     ]
    }
   ],
   "source": [
    "print(rootnode)\n",
    "print(len(nodelist))"
   ]
  },
  {
   "cell_type": "code",
   "execution_count": 35,
   "metadata": {
    "collapsed": true
   },
   "outputs": [],
   "source": [
    "def inorder_traverse(root):\n",
    "    return str(inorder_traverse(root.get_left())) + str(root.get_id()) + str(inorder_traverse(root.get_right())) if not root.is_leaf() else []"
   ]
  },
  {
   "cell_type": "code",
   "execution_count": 23,
   "metadata": {},
   "outputs": [
    {
     "data": {
      "text/plain": [
       "False"
      ]
     },
     "execution_count": 23,
     "metadata": {},
     "output_type": "execute_result"
    }
   ],
   "source": [
    "rootnode.is_leaf()"
   ]
  },
  {
   "cell_type": "code",
   "execution_count": 36,
   "metadata": {
    "collapsed": true
   },
   "outputs": [],
   "source": [
    "max_level = 3\n",
    "def preorder_traverse(root, c_level):\n",
    "    if((not root.is_leaf()) and c_level < max_level):\n",
    "        return str(root.get_id()) + ',' + str(preorder_traverse(root.get_left(), c_level+1)) + ',' + str(preorder_traverse(root.get_right(), c_level+1)) \n",
    "    else:\n",
    "        return ''"
   ]
  },
  {
   "cell_type": "code",
   "execution_count": 25,
   "metadata": {},
   "outputs": [
    {
     "data": {
      "text/plain": [
       "<scipy.cluster.hierarchy.ClusterNode at 0x2b5e24ad6cc0>"
      ]
     },
     "execution_count": 25,
     "metadata": {},
     "output_type": "execute_result"
    }
   ],
   "source": [
    "rootnode"
   ]
  },
  {
   "cell_type": "code",
   "execution_count": 37,
   "metadata": {
    "collapsed": true
   },
   "outputs": [],
   "source": [
    "A = preorder_traverse(rootnode,0)"
   ]
  },
  {
   "cell_type": "code",
   "execution_count": 38,
   "metadata": {},
   "outputs": [
    {
     "data": {
      "text/plain": [
       "'72294,72291,72281,,,72290,,,72293,72288,,,72292,,'"
      ]
     },
     "execution_count": 38,
     "metadata": {},
     "output_type": "execute_result"
    }
   ],
   "source": [
    "A"
   ]
  },
  {
   "cell_type": "code",
   "execution_count": null,
   "metadata": {
    "collapsed": true
   },
   "outputs": [],
   "source": []
  },
  {
   "cell_type": "code",
   "execution_count": null,
   "metadata": {
    "collapsed": true
   },
   "outputs": [],
   "source": [
    "max_level = 3\n",
    "def preorder_traverse1(root, c_level):\n",
    "    if((not root.is_leaf()) and c_level < max_level):\n",
    "        return str(root.get_id()) + ',' + str(preorder_traverse(root.get_left(), c_level+1)) + ',' + str(preorder_traverse(root.get_right(), c_level+1)) \n",
    "    else:\n",
    "        return ''"
   ]
  },
  {
   "cell_type": "markdown",
   "metadata": {},
   "source": [
    "## Find clusters based on observind the distance in the dendrogram"
   ]
  },
  {
   "cell_type": "code",
   "execution_count": 67,
   "metadata": {},
   "outputs": [
    {
     "name": "stdout",
     "output_type": "stream",
     "text": [
      "number of clusters 26\n",
      "size of list of clusters 36148\n"
     ]
    }
   ],
   "source": [
    "max_d = 190\n",
    "clusters = fcluster(Z, max_d , criterion='distance')\n",
    "setC = set(clusters)\n",
    "print('number of clusters {}'.format(len(setC)))\n",
    "print('size of list of clusters {}'.format(len(clusters)))"
   ]
  },
  {
   "cell_type": "code",
   "execution_count": 57,
   "metadata": {
    "collapsed": true
   },
   "outputs": [],
   "source": [
    "lst_cluster = []\n",
    "for i in range(len(setC)):\n",
    "    lst_cluster.append(set())\n",
    "    \n",
    "#add the i as the cloud_id which are clustered together in cluster clust_id\n",
    "# -1 is for cluster id which starts at 1, while the list index starts at zero\n",
    "for i, clust_id in enumerate(clusters):\n",
    "    lst_cluster[clust_id-1].add(i)   \n"
   ]
  },
  {
   "cell_type": "code",
   "execution_count": 43,
   "metadata": {
    "collapsed": true
   },
   "outputs": [],
   "source": [
    "# for i in lst_cluster:\n",
    "#     print(len(i))"
   ]
  },
  {
   "cell_type": "code",
   "execution_count": 49,
   "metadata": {
    "collapsed": true
   },
   "outputs": [],
   "source": [
    "# cluster_size=[]\n",
    "# for i in lst_cluster:\n",
    "#     cluster_size.append(len(i))"
   ]
  },
  {
   "cell_type": "code",
   "execution_count": 58,
   "metadata": {
    "collapsed": true
   },
   "outputs": [],
   "source": [
    "# len(cluster_size)"
   ]
  },
  {
   "cell_type": "code",
   "execution_count": 56,
   "metadata": {
    "collapsed": true
   },
   "outputs": [],
   "source": [
    "# plt.figure(figsize=(12, 8))\n",
    "# plt.title('Size of clusters')\n",
    "# plt.xlabel('Cluster id')\n",
    "# plt.ylabel('Number of data points')\n",
    "\n",
    "# plt.hist(cluster_size,len(cluster_size))\n",
    "# plt.show()"
   ]
  },
  {
   "cell_type": "markdown",
   "metadata": {},
   "source": [
    "### Not useful anymore, Find k-clusters "
   ]
  },
  {
   "cell_type": "code",
   "execution_count": 70,
   "metadata": {
    "collapsed": true
   },
   "outputs": [],
   "source": [
    "# k = 7\n",
    "# clusters = fcluster(Z, k , criterion='maxclust')\n",
    "# setC = set(clusters)\n",
    "# len(setC)"
   ]
  },
  {
   "cell_type": "markdown",
   "metadata": {},
   "source": [
    "## Create list of Cloud IDs"
   ]
  },
  {
   "cell_type": "code",
   "execution_count": 169,
   "metadata": {
    "collapsed": true
   },
   "outputs": [],
   "source": [
    "lst_cluster = []\n",
    "for i in range(len(setC)):\n",
    "    lst_cluster.append(set())\n",
    "    \n",
    "#add the i as the cloud_id which are clustered together in cluster clust_id\n",
    "# -1 is for cluster id which starts at 1, while the list index starts at zero\n",
    "for i, clust_id in enumerate(clusters):\n",
    "    lst_cluster[clust_id-1].add(i)   \n"
   ]
  },
  {
   "cell_type": "code",
   "execution_count": 170,
   "metadata": {},
   "outputs": [
    {
     "name": "stdout",
     "output_type": "stream",
     "text": [
      "3476\n",
      "3166\n",
      "6896\n",
      "6739\n",
      "2921\n",
      "2524\n",
      "10426\n"
     ]
    }
   ],
   "source": [
    "for i in lst_cluster:\n",
    "    print(len(i))"
   ]
  },
  {
   "cell_type": "code",
   "execution_count": 101,
   "metadata": {
    "collapsed": true
   },
   "outputs": [],
   "source": [
    "# for i in range(len(setC)):\n",
    "#     print(len(lst_cluster[i]))"
   ]
  },
  {
   "cell_type": "markdown",
   "metadata": {},
   "source": [
    "## load the document ids as lines (cloud) from dijkstra file"
   ]
  },
  {
   "cell_type": "code",
   "execution_count": 71,
   "metadata": {},
   "outputs": [
    {
     "ename": "MemoryError",
     "evalue": "",
     "output_type": "error",
     "traceback": [
      "\u001b[0;31m---------------------------------------------------------------------------\u001b[0m",
      "\u001b[0;31mMemoryError\u001b[0m                               Traceback (most recent call last)",
      "\u001b[0;32m<ipython-input-71-f660d7988b08>\u001b[0m in \u001b[0;36m<module>\u001b[0;34m()\u001b[0m\n\u001b[1;32m     15\u001b[0m             \u001b[0;32mcontinue\u001b[0m\u001b[0;34m\u001b[0m\u001b[0m\n\u001b[1;32m     16\u001b[0m         \u001b[0;32melse\u001b[0m\u001b[0;34m:\u001b[0m\u001b[0;34m\u001b[0m\u001b[0m\n\u001b[0;32m---> 17\u001b[0;31m             \u001b[0mcloud_line\u001b[0m\u001b[0;34m.\u001b[0m\u001b[0mappend\u001b[0m\u001b[0;34m(\u001b[0m\u001b[0mline\u001b[0m\u001b[0;34m.\u001b[0m\u001b[0mrstrip\u001b[0m\u001b[0;34m(\u001b[0m\u001b[0;34m)\u001b[0m\u001b[0;34m.\u001b[0m\u001b[0msplit\u001b[0m\u001b[0;34m(\u001b[0m\u001b[0;34m' '\u001b[0m\u001b[0;34m)\u001b[0m\u001b[0;34m)\u001b[0m \u001b[0;31m# I am not sure about this\u001b[0m\u001b[0;34m\u001b[0m\u001b[0m\n\u001b[0m\u001b[1;32m     18\u001b[0m \u001b[0;34m\u001b[0m\u001b[0m\n\u001b[1;32m     19\u001b[0m \u001b[0;34m\u001b[0m\u001b[0m\n",
      "\u001b[0;31mMemoryError\u001b[0m: "
     ]
    }
   ],
   "source": [
    "import numpy as np\n",
    "import scipy as sp\n",
    "from scipy.sparse import csr_matrix \n",
    "import timeit\n",
    "\n",
    "\n",
    "input_file = \"/scratch2/esadrfa/hiv_associate_dementia.dijkstra\"\n",
    "out_file = input_file + \".out\"\n",
    "\n",
    "start = timeit.default_timer()        \n",
    "cloud_line = []\n",
    "with open(input_file) as f:\n",
    "    for line in f:\n",
    "        if ':' in line:   #the path summary\n",
    "            continue\n",
    "        else:\n",
    "            cloud_line.append(line.rstrip().split(' ')) # I am not sure about this\n",
    "                      \n",
    "\n",
    "\n",
    "print('number of clouds: {}'.format(curr_cloud_id-1))\n",
    "stop = timeit.default_timer()\n",
    "print(\"count the number of lines and documents: %.1f seconds\" % (stop - start))\n"
   ]
  },
  {
   "cell_type": "code",
   "execution_count": 97,
   "metadata": {},
   "outputs": [
    {
     "data": {
      "text/plain": [
       "36148"
      ]
     },
     "execution_count": 97,
     "metadata": {},
     "output_type": "execute_result"
    }
   ],
   "source": [
    "len(cloud_line)"
   ]
  },
  {
   "cell_type": "markdown",
   "metadata": {},
   "source": [
    "### I have 1 number less in Z matrix compare to number of clouds in the file"
   ]
  },
  {
   "cell_type": "markdown",
   "metadata": {},
   "source": [
    "### Create list of document Id (moliere internal id) from cloud Id"
   ]
  },
  {
   "cell_type": "code",
   "execution_count": 100,
   "metadata": {
    "collapsed": true
   },
   "outputs": [],
   "source": [
    "out_file_name = '/scratch2/esadrfa/dijk2Data'\n",
    "def write_dijk_file(lst_doc_ids):\n",
    "    with open(out_file_name,'a') as f:\n",
    "        f.write('Start:\\n')\n",
    "        for doc_id in lst_doc_ids:\n",
    "            f.write(doc_id+' ')\n",
    "        f.write('\\n') \n",
    "        \n",
    "    "
   ]
  },
  {
   "cell_type": "code",
   "execution_count": 126,
   "metadata": {},
   "outputs": [
    {
     "data": {
      "text/plain": [
       "list"
      ]
     },
     "execution_count": 126,
     "metadata": {},
     "output_type": "execute_result"
    }
   ],
   "source": [
    "type(cloud_line[2])"
   ]
  },
  {
   "cell_type": "code",
   "execution_count": 151,
   "metadata": {},
   "outputs": [
    {
     "name": "stdout",
     "output_type": "stream",
     "text": [
      "count the number of lines and documents: 197.5 seconds\n"
     ]
    }
   ],
   "source": [
    "start = timeit.default_timer()\n",
    "for cluster_id in lst_cluster:\n",
    "    set_doc_id = set()\n",
    "#     print('cluster_id type {}'.format(type(cluster_id)))\n",
    "    for line_id in cluster_id:\n",
    "#         print (type(line_id))\n",
    "        for doc_id in cloud_line[line_id]:\n",
    "#             print(doc_id)\n",
    "            set_doc_id.add(doc_id)\n",
    "    write_dijk_file(set_doc_id)\n",
    "stop = timeit.default_timer()\n",
    "print(\"write the documents id: %.1f seconds\" % (stop - start))\n"
   ]
  },
  {
   "cell_type": "code",
   "execution_count": null,
   "metadata": {
    "collapsed": true
   },
   "outputs": [],
   "source": []
  },
  {
   "cell_type": "code",
   "execution_count": null,
   "metadata": {
    "collapsed": true
   },
   "outputs": [],
   "source": []
  },
  {
   "cell_type": "code",
   "execution_count": null,
   "metadata": {
    "collapsed": true
   },
   "outputs": [],
   "source": []
  },
  {
   "cell_type": "code",
   "execution_count": null,
   "metadata": {
    "collapsed": true
   },
   "outputs": [],
   "source": []
  },
  {
   "cell_type": "code",
   "execution_count": null,
   "metadata": {
    "collapsed": true
   },
   "outputs": [],
   "source": []
  },
  {
   "cell_type": "code",
   "execution_count": null,
   "metadata": {
    "collapsed": true
   },
   "outputs": [],
   "source": []
  },
  {
   "cell_type": "code",
   "execution_count": null,
   "metadata": {
    "collapsed": true
   },
   "outputs": [],
   "source": []
  },
  {
   "cell_type": "code",
   "execution_count": null,
   "metadata": {
    "collapsed": true
   },
   "outputs": [],
   "source": []
  },
  {
   "cell_type": "code",
   "execution_count": null,
   "metadata": {
    "collapsed": true
   },
   "outputs": [],
   "source": []
  },
  {
   "cell_type": "code",
   "execution_count": null,
   "metadata": {
    "collapsed": true
   },
   "outputs": [],
   "source": []
  },
  {
   "cell_type": "code",
   "execution_count": null,
   "metadata": {
    "collapsed": true
   },
   "outputs": [],
   "source": []
  },
  {
   "cell_type": "code",
   "execution_count": 84,
   "metadata": {
    "collapsed": true
   },
   "outputs": [],
   "source": [
    "lst_clustet[0].add(5)"
   ]
  },
  {
   "cell_type": "code",
   "execution_count": 85,
   "metadata": {},
   "outputs": [
    {
     "data": {
      "text/plain": [
       "{3, 5}"
      ]
     },
     "execution_count": 85,
     "metadata": {},
     "output_type": "execute_result"
    }
   ],
   "source": [
    "lst_clustet[0]\n"
   ]
  },
  {
   "cell_type": "code",
   "execution_count": null,
   "metadata": {
    "collapsed": true
   },
   "outputs": [],
   "source": []
  },
  {
   "cell_type": "code",
   "execution_count": 9,
   "metadata": {
    "collapsed": true
   },
   "outputs": [],
   "source": [
    "CN = to_tree(Z)"
   ]
  },
  {
   "cell_type": "code",
   "execution_count": 18,
   "metadata": {},
   "outputs": [
    {
     "name": "stdout",
     "output_type": "stream",
     "text": [
      "36148\n",
      "72294\n"
     ]
    }
   ],
   "source": [
    "print(CN.get_count())\n",
    "print(CN.get_id())"
   ]
  },
  {
   "cell_type": "code",
   "execution_count": 27,
   "metadata": {},
   "outputs": [
    {
     "name": "stdout",
     "output_type": "stream",
     "text": [
      "13538\n",
      "72281\n"
     ]
    }
   ],
   "source": [
    "print(CN.get_left().get_count())\n",
    "print(CN.get_left().get_left().get_id())"
   ]
  },
  {
   "cell_type": "code",
   "execution_count": 19,
   "metadata": {
    "collapsed": true
   },
   "outputs": [],
   "source": [
    "PO = CN.pre_order()"
   ]
  },
  {
   "cell_type": "code",
   "execution_count": 20,
   "metadata": {},
   "outputs": [
    {
     "data": {
      "text/plain": [
       "36148"
      ]
     },
     "execution_count": 20,
     "metadata": {},
     "output_type": "execute_result"
    }
   ],
   "source": [
    "len(PO)"
   ]
  },
  {
   "cell_type": "code",
   "execution_count": 28,
   "metadata": {
    "scrolled": true
   },
   "outputs": [
    {
     "data": {
      "text/plain": [
       "False"
      ]
     },
     "execution_count": 28,
     "metadata": {},
     "output_type": "execute_result"
    }
   ],
   "source": [
    "72281 in PO"
   ]
  },
  {
   "cell_type": "code",
   "execution_count": null,
   "metadata": {
    "collapsed": true
   },
   "outputs": [],
   "source": []
  },
  {
   "cell_type": "code",
   "execution_count": null,
   "metadata": {
    "collapsed": true
   },
   "outputs": [],
   "source": []
  },
  {
   "cell_type": "code",
   "execution_count": 54,
   "metadata": {
    "collapsed": true
   },
   "outputs": [],
   "source": [
    "rootnode, nodelist= to_tree(Z, rd=True)"
   ]
  },
  {
   "cell_type": "code",
   "execution_count": 55,
   "metadata": {},
   "outputs": [
    {
     "data": {
      "text/plain": [
       "72294"
      ]
     },
     "execution_count": 55,
     "metadata": {},
     "output_type": "execute_result"
    }
   ],
   "source": [
    "rootnode.get_id()"
   ]
  },
  {
   "cell_type": "code",
   "execution_count": 41,
   "metadata": {},
   "outputs": [
    {
     "data": {
      "text/plain": [
       "13538"
      ]
     },
     "execution_count": 41,
     "metadata": {},
     "output_type": "execute_result"
    }
   ],
   "source": [
    "d[13538].get_id()"
   ]
  },
  {
   "cell_type": "code",
   "execution_count": 43,
   "metadata": {},
   "outputs": [
    {
     "data": {
      "text/plain": [
       "72295"
      ]
     },
     "execution_count": 43,
     "metadata": {},
     "output_type": "execute_result"
    }
   ],
   "source": [
    "len(d)"
   ]
  },
  {
   "cell_type": "code",
   "execution_count": 44,
   "metadata": {
    "collapsed": true
   },
   "outputs": [],
   "source": [
    "c=d"
   ]
  },
  {
   "cell_type": "code",
   "execution_count": 53,
   "metadata": {},
   "outputs": [
    {
     "name": "stdout",
     "output_type": "stream",
     "text": [
      "72294\n",
      "72291\n",
      "72281\n",
      "72249\n",
      "72115\n",
      "72039\n"
     ]
    }
   ],
   "source": [
    "path=\n",
    "while(c[r.get_id()].get_id() > 72000):\n",
    "    print(c[r.get_id()].get_id())\n",
    "    r = r.get_left()\n",
    "    "
   ]
  },
  {
   "cell_type": "code",
   "execution_count": null,
   "metadata": {
    "collapsed": true
   },
   "outputs": [],
   "source": []
  }
 ],
 "metadata": {
  "kernelspec": {
   "display_name": "Python 3 (Anaconda)",
   "language": "python",
   "name": "anaconda_py3"
  },
  "language_info": {
   "codemirror_mode": {
    "name": "ipython",
    "version": 3
   },
   "file_extension": ".py",
   "mimetype": "text/x-python",
   "name": "python",
   "nbconvert_exporter": "python",
   "pygments_lexer": "ipython3",
   "version": "3.5.2"
  }
 },
 "nbformat": 4,
 "nbformat_minor": 2
}
