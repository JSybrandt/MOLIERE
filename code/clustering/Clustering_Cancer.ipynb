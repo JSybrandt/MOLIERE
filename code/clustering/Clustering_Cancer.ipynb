{
 "cells": [
  {
   "cell_type": "code",
   "execution_count": 1,
   "metadata": {
    "collapsed": true
   },
   "outputs": [],
   "source": [
    "import numpy as np\n",
    "import scipy as sp\n",
    "# from scipy.sparse import csr_matrix \n",
    "# from sklearn.metrics.pairwise import cosine_similarity\n",
    "import timeit\n",
    "from scipy.cluster.hierarchy import dendrogram, linkage\n",
    "import matplotlib.pylab as plt"
   ]
  },
  {
   "cell_type": "code",
   "execution_count": 13,
   "metadata": {
    "collapsed": true
   },
   "outputs": [],
   "source": [
    "input_path='/scratch2/esadrfa/moliere/cancer/'\n",
    "sim_file='sim_matrix.npy'\n",
    "linkage_file='linkage_mat'"
   ]
  },
  {
   "cell_type": "markdown",
   "metadata": {},
   "source": [
    "# load the data"
   ]
  },
  {
   "cell_type": "code",
   "execution_count": 3,
   "metadata": {},
   "outputs": [
    {
     "name": "stdout",
     "output_type": "stream",
     "text": [
      "Time: 0.0 seconds\n"
     ]
    }
   ],
   "source": [
    "start = timeit.default_timer()\n",
    "data = np.load(input_path + sim_file)\n",
    "\n",
    "stop = timeit.default_timer()\n",
    "print(\"Time: %.1f seconds\" % (stop - start))"
   ]
  },
  {
   "cell_type": "code",
   "execution_count": 4,
   "metadata": {},
   "outputs": [
    {
     "data": {
      "text/plain": [
       "(287, 287)"
      ]
     },
     "execution_count": 4,
     "metadata": {},
     "output_type": "execute_result"
    }
   ],
   "source": [
    "data.shape"
   ]
  },
  {
   "cell_type": "code",
   "execution_count": 6,
   "metadata": {},
   "outputs": [
    {
     "name": "stdout",
     "output_type": "stream",
     "text": [
      "Time: 0.0 seconds\n"
     ]
    }
   ],
   "source": [
    "start = timeit.default_timer()\n",
    "Z = linkage(data, 'ward')\n",
    "stop = timeit.default_timer()\n",
    "print(\"Time: %.1f seconds\" % (stop - start))"
   ]
  },
  {
   "cell_type": "code",
   "execution_count": 7,
   "metadata": {},
   "outputs": [
    {
     "data": {
      "text/plain": [
       "286"
      ]
     },
     "execution_count": 7,
     "metadata": {},
     "output_type": "execute_result"
    }
   ],
   "source": [
    "len(Z)"
   ]
  },
  {
   "cell_type": "code",
   "execution_count": 14,
   "metadata": {},
   "outputs": [],
   "source": [
    "np.save(input_path + linkage_file, Z)"
   ]
  },
  {
   "cell_type": "markdown",
   "metadata": {},
   "source": [
    "Check the quality"
   ]
  },
  {
   "cell_type": "code",
   "execution_count": 15,
   "metadata": {},
   "outputs": [
    {
     "data": {
      "text/plain": [
       "0.56784505370148208"
      ]
     },
     "execution_count": 15,
     "metadata": {},
     "output_type": "execute_result"
    }
   ],
   "source": [
    "from scipy.cluster.hierarchy import cophenet\n",
    "from scipy.spatial.distance import pdist\n",
    "\n",
    "c, coph_dists = cophenet(Z, pdist(data))\n",
    "c\n"
   ]
  },
  {
   "cell_type": "code",
   "execution_count": 17,
   "metadata": {},
   "outputs": [
    {
     "data": {
      "text/plain": [
       "array([[  1.73000000e+02,   1.74000000e+02,   1.98794666e-02,\n",
       "          2.00000000e+00],\n",
       "       [  1.40000000e+02,   1.47000000e+02,   3.03116361e-02,\n",
       "          2.00000000e+00],\n",
       "       [  8.00000000e+01,   8.90000000e+01,   3.03262049e-02,\n",
       "          2.00000000e+00],\n",
       "       ..., \n",
       "       [  5.67000000e+02,   5.69000000e+02,   7.13027676e+00,\n",
       "          2.32000000e+02],\n",
       "       [  5.55000000e+02,   5.62000000e+02,   7.73838033e+00,\n",
       "          5.50000000e+01],\n",
       "       [  5.70000000e+02,   5.71000000e+02,   1.07811182e+01,\n",
       "          2.87000000e+02]])"
      ]
     },
     "execution_count": 17,
     "metadata": {},
     "output_type": "execute_result"
    }
   ],
   "source": [
    "np.load(input_path + linkage_file+'.npy')"
   ]
  }
 ],
 "metadata": {
  "kernelspec": {
   "display_name": "Python 3 (Anaconda)",
   "language": "python",
   "name": "anaconda_py3"
  },
  "language_info": {
   "codemirror_mode": {
    "name": "ipython",
    "version": 3
   },
   "file_extension": ".py",
   "mimetype": "text/x-python",
   "name": "python",
   "nbconvert_exporter": "python",
   "pygments_lexer": "ipython3",
   "version": "3.5.2"
  }
 },
 "nbformat": 4,
 "nbformat_minor": 2
}
