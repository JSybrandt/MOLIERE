{
 "cells": [
  {
   "cell_type": "markdown",
   "metadata": {},
   "source": [
    "# copied from cancer Sep 30, 2017 - 12:35"
   ]
  },
  {
   "cell_type": "code",
   "execution_count": 109,
   "metadata": {
    "collapsed": true
   },
   "outputs": [],
   "source": [
    "import pandas as pd\n",
    "import numpy as np\n",
    "import scipy as sp\n",
    "import timeit\n",
    "from scipy.cluster.hierarchy import dendrogram, linkage, to_tree\n",
    "from scipy.cluster.hierarchy import ClusterNode, fcluster, inconsistent, cut_tree\n",
    "import matplotlib.pylab as plt"
   ]
  },
  {
   "cell_type": "markdown",
   "metadata": {},
   "source": [
    "### input parameters"
   ]
  },
  {
   "cell_type": "code",
   "execution_count": 110,
   "metadata": {
    "collapsed": true
   },
   "outputs": [],
   "source": [
    "hypo_name='hiv'\n",
    "input_path='/scratch2/esadrfa/moliere/'+hypo_name +'/'\n",
    "linkage_file='linkage_mat_ward_inv'"
   ]
  },
  {
   "cell_type": "code",
   "execution_count": 111,
   "metadata": {
    "collapsed": true
   },
   "outputs": [],
   "source": [
    "# d=2.6 #Cancer\n",
    "# d=190 #HIV\n",
    "d=2000 #HIV inverse"
   ]
  },
  {
   "cell_type": "markdown",
   "metadata": {},
   "source": [
    "### load the linkage"
   ]
  },
  {
   "cell_type": "code",
   "execution_count": 112,
   "metadata": {},
   "outputs": [
    {
     "name": "stdout",
     "output_type": "stream",
     "text": [
      "loading /scratch2/esadrfa/moliere/hiv/linkage_mat_ward_inv.npy\n",
      "Time: 0.0 seconds\n"
     ]
    }
   ],
   "source": [
    "start = timeit.default_timer()\n",
    "print('loading {}'.format(input_path + linkage_file + '.npy'))\n",
    "Z = np.load(input_path + linkage_file + '.npy')\n",
    "stop = timeit.default_timer()\n",
    "print(\"Time: %.1f seconds\" % (stop - start))\n"
   ]
  },
  {
   "cell_type": "code",
   "execution_count": 113,
   "metadata": {},
   "outputs": [
    {
     "data": {
      "text/plain": [
       "36147"
      ]
     },
     "execution_count": 113,
     "metadata": {},
     "output_type": "execute_result"
    }
   ],
   "source": [
    "len(Z)"
   ]
  },
  {
   "cell_type": "markdown",
   "metadata": {},
   "source": [
    "### convert the linkage to tree"
   ]
  },
  {
   "cell_type": "code",
   "execution_count": 114,
   "metadata": {
    "collapsed": true
   },
   "outputs": [],
   "source": [
    "L=to_tree(Z)"
   ]
  },
  {
   "cell_type": "code",
   "execution_count": 115,
   "metadata": {},
   "outputs": [
    {
     "data": {
      "text/plain": [
       "29713.291087056521"
      ]
     },
     "execution_count": 115,
     "metadata": {},
     "output_type": "execute_result"
    }
   ],
   "source": [
    "L.dist\n"
   ]
  },
  {
   "cell_type": "code",
   "execution_count": 116,
   "metadata": {
    "collapsed": true
   },
   "outputs": [],
   "source": [
    "# some setting for this notebook to actually show the graphs inline, you probably won't need this\n",
    "%matplotlib inline\n",
    "np.set_printoptions(precision=5, suppress=True)  # suppress scientific float notation"
   ]
  },
  {
   "cell_type": "markdown",
   "metadata": {},
   "source": [
    "### Build truncated linkage "
   ]
  },
  {
   "cell_type": "code",
   "execution_count": 117,
   "metadata": {
    "collapsed": true
   },
   "outputs": [],
   "source": [
    "def get_linkage_info(N):\n",
    "    return [N.get_left().get_id(), N.get_right().get_id(), N.dist, N.count]"
   ]
  },
  {
   "cell_type": "code",
   "execution_count": 118,
   "metadata": {
    "collapsed": true
   },
   "outputs": [],
   "source": [
    "tmpZ = []\n",
    "leaves=[]\n",
    "def build_linkage(root, verbose=False):\n",
    "    if root.dist > d:    \n",
    "        if root.get_left().dist >= d:             #recursive call\n",
    "            build_linkage(root.get_left())\n",
    "            tmpZ.append(get_linkage_info(root))\n",
    "        else:                                     #get the leaf\n",
    "            leaves.append([root.get_left().get_id(), root.get_id()])\n",
    "\n",
    "        if root.get_right().dist >= d:\n",
    "            build_linkage(root.get_right())\n",
    "            tmpZ.append(get_linkage_info(root))\n",
    "        else:\n",
    "            leaves.append([root.get_right().get_id(), root.get_id()])"
   ]
  },
  {
   "cell_type": "code",
   "execution_count": 119,
   "metadata": {
    "collapsed": true
   },
   "outputs": [],
   "source": [
    "build_linkage(L)"
   ]
  },
  {
   "cell_type": "code",
   "execution_count": 120,
   "metadata": {},
   "outputs": [
    {
     "data": {
      "text/plain": [
       "24"
      ]
     },
     "execution_count": 120,
     "metadata": {},
     "output_type": "execute_result"
    }
   ],
   "source": [
    "len(tmpZ)"
   ]
  },
  {
   "cell_type": "code",
   "execution_count": 121,
   "metadata": {},
   "outputs": [
    {
     "name": "stdout",
     "output_type": "stream",
     "text": [
      "[[72207, 72277], [72246, 72277], [72187, 72271], [72262, 72271], [72266, 72283], [72251, 72278], [72242, 72272], [72269, 72272], [72268, 72290], [72226, 72279], [72247, 72279], [72239, 72274], [72250, 72274], [72261, 72282], [72200, 72275], [72243, 72275], [72259, 72287], [72238, 72280], [72265, 72280], [72267, 72288], [72241, 72276], [72244, 72276], [72256, 72281], [72255, 72273], [72219, 72270], [72236, 72270]]\n",
      "26\n"
     ]
    }
   ],
   "source": [
    "print(leaves) #leaf id, parent id\n",
    "print(len(leaves))"
   ]
  },
  {
   "cell_type": "markdown",
   "metadata": {},
   "source": [
    "### Post Process Z"
   ]
  },
  {
   "cell_type": "code",
   "execution_count": 122,
   "metadata": {
    "collapsed": true
   },
   "outputs": [],
   "source": [
    "truncatedZ=[]\n",
    "node_map={}\n",
    "new_idx=0\n",
    "for i in leaves:\n",
    "    if(i[0] not in node_map):\n",
    "        node_map[i[0]]=new_idx\n",
    "        new_idx += 1"
   ]
  },
  {
   "cell_type": "code",
   "execution_count": 123,
   "metadata": {},
   "outputs": [
    {
     "name": "stdout",
     "output_type": "stream",
     "text": [
      "{72207: 0, 72246: 1, 72187: 2, 72262: 3, 72266: 4, 72251: 5, 72242: 6, 72269: 7, 72268: 8, 72226: 9, 72247: 10, 72239: 11, 72250: 12, 72261: 13, 72200: 14, 72243: 15, 72259: 16, 72238: 17, 72265: 18, 72267: 19, 72241: 20, 72244: 21, 72256: 22, 72255: 23, 72219: 24, 72236: 25}\n",
      "26\n"
     ]
    }
   ],
   "source": [
    "print(node_map)\n",
    "print(len(node_map))"
   ]
  },
  {
   "cell_type": "code",
   "execution_count": 124,
   "metadata": {
    "collapsed": true
   },
   "outputs": [],
   "source": [
    "fullZdic={}\n",
    "num_points = len(Z) + 1 # len(Z)= n - 1\n",
    "for i, link in enumerate(Z):\n",
    "    fullZdic[num_points+i]= link"
   ]
  },
  {
   "cell_type": "code",
   "execution_count": 125,
   "metadata": {},
   "outputs": [
    {
     "data": {
      "text/plain": [
       "36147"
      ]
     },
     "execution_count": 125,
     "metadata": {},
     "output_type": "execute_result"
    }
   ],
   "source": [
    "len(fullZdic)"
   ]
  },
  {
   "cell_type": "markdown",
   "metadata": {},
   "source": [
    "##### initial step for adding the leaf node to node_map"
   ]
  },
  {
   "cell_type": "code",
   "execution_count": 126,
   "metadata": {
    "collapsed": true
   },
   "outputs": [],
   "source": [
    "truncatedZ=[]\n",
    "node_map={}\n",
    "new_idx=0\n",
    "for i in leaves:\n",
    "    if(i[0] not in node_map):\n",
    "        node_map[i[0]]=new_idx\n",
    "        new_idx += 1"
   ]
  },
  {
   "cell_type": "code",
   "execution_count": 127,
   "metadata": {},
   "outputs": [
    {
     "name": "stdout",
     "output_type": "stream",
     "text": [
      "{72207: 0, 72246: 1, 72187: 2, 72262: 3, 72266: 4, 72251: 5, 72242: 6, 72269: 7, 72268: 8, 72226: 9, 72247: 10, 72239: 11, 72250: 12, 72261: 13, 72200: 14, 72243: 15, 72259: 16, 72238: 17, 72265: 18, 72267: 19, 72241: 20, 72244: 21, 72256: 22, 72255: 23, 72219: 24, 72236: 25}\n",
      "26\n"
     ]
    }
   ],
   "source": [
    "print(node_map)\n",
    "print(len(node_map))"
   ]
  },
  {
   "cell_type": "markdown",
   "metadata": {},
   "source": [
    "##### add the new cluster id to node_map and create the truncatedZ"
   ]
  },
  {
   "cell_type": "code",
   "execution_count": 128,
   "metadata": {
    "collapsed": true
   },
   "outputs": [],
   "source": [
    "numFullData = len(Z) + 1\n",
    "numLeaves = len(node_map)\n",
    "cluster_id = 0\n",
    "for i, link in enumerate(Z):\n",
    "    if(link[2] < d):\n",
    "        pass\n",
    "    else:\n",
    "        node_map[numFullData + i] = numLeaves + cluster_id\n",
    "#         print(i, cluster_id, node_map)\n",
    "        truncatedZ.append([node_map.get(link[0]), node_map.get(link[1]), link[2], link[3]])\n",
    "        cluster_id += 1"
   ]
  },
  {
   "cell_type": "code",
   "execution_count": 129,
   "metadata": {
    "collapsed": true
   },
   "outputs": [],
   "source": [
    "map_new_old = {y:x for x,y in node_map.items()}\n",
    "# node_map"
   ]
  },
  {
   "cell_type": "code",
   "execution_count": 130,
   "metadata": {},
   "outputs": [],
   "source": [
    "truncatedZ;"
   ]
  },
  {
   "cell_type": "code",
   "execution_count": 131,
   "metadata": {},
   "outputs": [],
   "source": [
    "map_new_old;"
   ]
  },
  {
   "cell_type": "code",
   "execution_count": 132,
   "metadata": {
    "collapsed": true
   },
   "outputs": [],
   "source": [
    "#work with original id(full linkage)\n",
    "memo={}  \n",
    "for i in range(numFullData+1):\n",
    "    memo[i]=[i]\n",
    "for i,link in enumerate(Z):\n",
    "    left = memo.get(link[0]) \n",
    "    right = memo.get(link[1])\n",
    "#     print('i:{}, link:{}, left:{}, right:{}'.format(i,link,left,right))\n",
    "#     print(numFullData+1+i)\n",
    "#     print(memo)\n",
    "    if(left is not None and right is not None):\n",
    "        memo[numFullData+1+i] = left + right\n"
   ]
  },
  {
   "cell_type": "code",
   "execution_count": 133,
   "metadata": {},
   "outputs": [
    {
     "name": "stdout",
     "output_type": "stream",
     "text": [
      "15812\n",
      "20337\n"
     ]
    }
   ],
   "source": [
    "print(len(memo[numFullData * 2 -1]))\n",
    "print(len(memo[numFullData * 2 -2]))"
   ]
  },
  {
   "cell_type": "markdown",
   "metadata": {},
   "source": [
    "### get the clouds for each non-cluster hypo from dijk file"
   ]
  },
  {
   "cell_type": "code",
   "execution_count": 134,
   "metadata": {},
   "outputs": [
    {
     "name": "stdout",
     "output_type": "stream",
     "text": [
      "/scratch2/esadrfa/moliere/hiv/allClouds.txt\n"
     ]
    }
   ],
   "source": [
    "clouds_file = input_path + \"allClouds.txt\"\n",
    "print(clouds_file)"
   ]
  },
  {
   "cell_type": "code",
   "execution_count": null,
   "metadata": {},
   "outputs": [],
   "source": [
    "%%bash\n",
    "# head -n 5 /scratch2/esadrfa/moliere/cancer/allClouds.txt"
   ]
  },
  {
   "cell_type": "code",
   "execution_count": null,
   "metadata": {},
   "outputs": [],
   "source": [
    "start = timeit.default_timer()        \n",
    "cloud_line = []\n",
    "with open(clouds_file) as dijkFile:\n",
    "    while(True):\n",
    "        line1 = dijkFile.readline()\n",
    "        line2 = dijkFile.readline()\n",
    "        if(not line2):\n",
    "            break\n",
    "        cloud_line.append(line2.rstrip().split(' ')) # I am not sure about this\n",
    "    \n",
    "print('number of clouds: {}'.format(len(cloud_line)))\n",
    "stop = timeit.default_timer()\n",
    "print(\"count the number of lines and documents: %.1f seconds\" % (stop - start))\n"
   ]
  },
  {
   "cell_type": "markdown",
   "metadata": {},
   "source": [
    "### Make a new dijk file with new clusters and aggregated clouds"
   ]
  },
  {
   "cell_type": "markdown",
   "metadata": {},
   "source": [
    "#### check nothing larger than 287 is in the memo (it is ok)"
   ]
  },
  {
   "cell_type": "code",
   "execution_count": null,
   "metadata": {
    "collapsed": true
   },
   "outputs": [],
   "source": [
    "memo;"
   ]
  },
  {
   "cell_type": "code",
   "execution_count": null,
   "metadata": {
    "collapsed": true
   },
   "outputs": [],
   "source": [
    "map_new_old;"
   ]
  },
  {
   "cell_type": "code",
   "execution_count": null,
   "metadata": {
    "collapsed": true
   },
   "outputs": [],
   "source": [
    "# for i, cluster in enumerate(memo):\n",
    "# #     print(cluster)\n",
    "#     for cloud_id in memo.get(cluster):\n",
    "#         if cloud_id > 287:\n",
    "#             print(i, cluster, cloud_id)\n",
    "#             break"
   ]
  },
  {
   "cell_type": "markdown",
   "metadata": {},
   "source": [
    "map_new_old: the lenght is the number of new clusters, and the mapping is used to develop the new clouds\n",
    "\n",
    "memo: contains the cluster ids\n",
    "\n",
    "cloud_line: moliere id in each node   "
   ]
  },
  {
   "cell_type": "code",
   "execution_count": null,
   "metadata": {},
   "outputs": [],
   "source": [
    "out_file_name = 'clustered_clouds.txt'\n",
    "print(input_path + out_file_name)"
   ]
  },
  {
   "cell_type": "code",
   "execution_count": null,
   "metadata": {
    "collapsed": true
   },
   "outputs": [],
   "source": [
    "def write_dijk_file(lst_doc_ids, cluster_ID):\n",
    "    with open(input_path + out_file_name,'a') as f:\n",
    "        f.write('Start: {} End: {} Path: 0 1 2 3 Weight: 1\\n'.format(cluster_ID, cluster_ID))\n",
    "        for doc_id in lst_doc_ids:\n",
    "            f.write(doc_id + ' ')\n",
    "        f.write('\\n') "
   ]
  },
  {
   "cell_type": "markdown",
   "metadata": {},
   "source": [
    "# Final dijkstra output"
   ]
  },
  {
   "cell_type": "code",
   "execution_count": null,
   "metadata": {},
   "outputs": [],
   "source": [
    "start = timeit.default_timer()\n",
    "for new_cluster_id in map_new_old:\n",
    "    old_cluster_id = map_new_old.get(new_cluster_id)\n",
    "    set_doc_id = set()\n",
    "#     print('cluster_id type {}'.format(type(cluster_id)))\n",
    "    for line_id in memo.get(old_cluster_id):\n",
    "#         print (line_id, end=',')\n",
    "        if line_id <= numFullData:\n",
    "            for doc_id in cloud_line[line_id-1]:\n",
    "    #             print(doc_id)\n",
    "                set_doc_id.add(doc_id)\n",
    "        else:\n",
    "            print ('line_id is for clusters', line_id)\n",
    "            break\n",
    "    print(new_cluster_id, len(set_doc_id))\n",
    "    write_dijk_file(set_doc_id, new_cluster_id)\n",
    "stop = timeit.default_timer()\n",
    "print(\"write the documents id: %.1f seconds\" % (stop - start))"
   ]
  },
  {
   "cell_type": "code",
   "execution_count": null,
   "metadata": {},
   "outputs": [],
   "source": [
    "# some setting for this notebook to actually show the graphs inline, you probably won't need this\n",
    "%matplotlib inline\n",
    "np.set_printoptions(precision=5, suppress=True)  # suppress scientific float notation\n",
    "plt.figure(figsize=(10, 10))\n",
    "plt.title('Hierarchical Clustering Dendrogram')\n",
    "plt.xlabel('sample index')\n",
    "plt.ylabel('distance')\n",
    "ddata = dendrogram(\n",
    "    truncatedZ,\n",
    "    leaf_rotation=90.,  # rotates the x axis labels\n",
    "#     leaf_font_size=20.,  # font size for the x axis labels\n",
    "    #labels=[\"a\", \"b\", \"c\", \"d\"]\n",
    "    \n",
    ")"
   ]
  },
  {
   "cell_type": "code",
   "execution_count": null,
   "metadata": {
    "collapsed": true
   },
   "outputs": [],
   "source": []
  },
  {
   "cell_type": "code",
   "execution_count": null,
   "metadata": {
    "collapsed": true
   },
   "outputs": [],
   "source": []
  },
  {
   "cell_type": "code",
   "execution_count": null,
   "metadata": {
    "collapsed": true
   },
   "outputs": [],
   "source": []
  },
  {
   "cell_type": "code",
   "execution_count": null,
   "metadata": {
    "collapsed": true
   },
   "outputs": [],
   "source": []
  },
  {
   "cell_type": "code",
   "execution_count": null,
   "metadata": {
    "collapsed": true
   },
   "outputs": [],
   "source": []
  },
  {
   "cell_type": "code",
   "execution_count": null,
   "metadata": {
    "collapsed": true
   },
   "outputs": [],
   "source": []
  },
  {
   "cell_type": "code",
   "execution_count": null,
   "metadata": {
    "collapsed": true
   },
   "outputs": [],
   "source": []
  },
  {
   "cell_type": "code",
   "execution_count": null,
   "metadata": {
    "collapsed": true
   },
   "outputs": [],
   "source": []
  },
  {
   "cell_type": "code",
   "execution_count": null,
   "metadata": {
    "collapsed": true
   },
   "outputs": [],
   "source": []
  },
  {
   "cell_type": "code",
   "execution_count": null,
   "metadata": {
    "collapsed": true
   },
   "outputs": [],
   "source": []
  },
  {
   "cell_type": "code",
   "execution_count": null,
   "metadata": {
    "collapsed": true
   },
   "outputs": [],
   "source": []
  },
  {
   "cell_type": "code",
   "execution_count": null,
   "metadata": {
    "collapsed": true
   },
   "outputs": [],
   "source": []
  },
  {
   "cell_type": "code",
   "execution_count": null,
   "metadata": {
    "collapsed": true
   },
   "outputs": [],
   "source": []
  },
  {
   "cell_type": "code",
   "execution_count": null,
   "metadata": {
    "collapsed": true
   },
   "outputs": [],
   "source": []
  },
  {
   "cell_type": "code",
   "execution_count": null,
   "metadata": {
    "collapsed": true
   },
   "outputs": [],
   "source": []
  },
  {
   "cell_type": "code",
   "execution_count": null,
   "metadata": {
    "collapsed": true
   },
   "outputs": [],
   "source": []
  },
  {
   "cell_type": "markdown",
   "metadata": {},
   "source": [
    "# The rest is not useful anymore - Sep 29, 2017"
   ]
  },
  {
   "cell_type": "code",
   "execution_count": null,
   "metadata": {
    "collapsed": true
   },
   "outputs": [],
   "source": []
  },
  {
   "cell_type": "code",
   "execution_count": 89,
   "metadata": {},
   "outputs": [
    {
     "name": "stdout",
     "output_type": "stream",
     "text": [
      "sum all leaves: 36148\n"
     ]
    }
   ],
   "source": [
    "cnt = 0\n",
    "for i in final_leaves:\n",
    "    cnt += i[1]\n",
    "print('sum all leaves:',cnt)"
   ]
  },
  {
   "cell_type": "code",
   "execution_count": 12,
   "metadata": {
    "collapsed": true
   },
   "outputs": [],
   "source": [
    "max_level= 10\n",
    "def preorder_traverse(G, root, c_level):\n",
    "    if root.is_leaf():\n",
    "        return root.get_id()\n",
    "    if(c_level < max_level):\n",
    "        return str(root.get_id()) + ',' + str(preorder_traverse(root.get_left(), c_level+1)) + ',' + str(preorder_traverse(root.get_right(), c_level+1)) \n",
    "    "
   ]
  },
  {
   "cell_type": "code",
   "execution_count": 107,
   "metadata": {},
   "outputs": [
    {
     "name": "stdout",
     "output_type": "stream",
     "text": [
      "number of clusters 16\n"
     ]
    }
   ],
   "source": [
    "max_d = 4\n",
    "clusters = fcluster(Z, max_d , criterion='distance')\n",
    "setC = set(clusters)\n",
    "print('number of clusters {}'.format(len(setC)))\n",
    "# print('size of list of clusters {}'.format(len(clusters)))"
   ]
  },
  {
   "cell_type": "code",
   "execution_count": 112,
   "metadata": {},
   "outputs": [
    {
     "name": "stdout",
     "output_type": "stream",
     "text": [
      "[[1, 15], [2, 17], [3, 22], [4, 18], [5, 12], [6, 22], [7, 12], [8, 11], [9, 8], [10, 15], [11, 15], [12, 11], [13, 54], [14, 23], [15, 11], [16, 21]]\n"
     ]
    }
   ],
   "source": [
    "cluster_data_count=[]\n",
    "for i in range(len(setC)):\n",
    "    cluster_data_count.append(0)\n",
    "for i in clusters:\n",
    "    cluster_data_count[i-1] += 1\n",
    "\n",
    "res = []\n",
    "for i in range(len(setC)):\n",
    "    res.append([i+1, cluster_data_count[i]])\n",
    "print(res)"
   ]
  },
  {
   "cell_type": "code",
   "execution_count": 113,
   "metadata": {},
   "outputs": [
    {
     "data": {
      "text/plain": [
       "[[11, 12, 4.0440748811252307, 65.0],\n",
       " [7, 8, 4.1583460567452617, 19.0],\n",
       " [4, 5, 4.3958717778449872, 34.0],\n",
       " [6, 17, 4.5950143262858507, 31.0],\n",
       " [14, 15, 4.7403447064252866, 32.0],\n",
       " [18, 19, 4.9328363474081787, 65.0],\n",
       " [3, 21, 5.4042873637343565, 83.0],\n",
       " [10, 16, 5.4544297106316613, 80.0],\n",
       " [2, 22, 6.1211624976523282, 105.0],\n",
       " [0, 1, 6.2136474479915726, 32.0],\n",
       " [9, 23, 6.2392993858482182, 95.0],\n",
       " [24, 26, 6.5050671137787885, 200.0],\n",
       " [25, 27, 7.1302767606380018, 232.0],\n",
       " [13, 20, 7.7383803302348309, 55.0],\n",
       " [28, 29, 10.781118163353298, 287.0]]"
      ]
     },
     "execution_count": 113,
     "metadata": {},
     "output_type": "execute_result"
    }
   ],
   "source": [
    "truncatedZ"
   ]
  },
  {
   "cell_type": "code",
   "execution_count": 115,
   "metadata": {},
   "outputs": [
    {
     "data": {
      "text/plain": [
       "{16: [11, 12, 4.0440748811252307, 65.0],\n",
       " 17: [7, 8, 4.1583460567452617, 19.0],\n",
       " 18: [4, 5, 4.3958717778449872, 34.0],\n",
       " 19: [6, 17, 4.5950143262858507, 31.0],\n",
       " 20: [14, 15, 4.7403447064252866, 32.0],\n",
       " 21: [18, 19, 4.9328363474081787, 65.0],\n",
       " 22: [3, 21, 5.4042873637343565, 83.0],\n",
       " 23: [10, 16, 5.4544297106316613, 80.0],\n",
       " 24: [2, 22, 6.1211624976523282, 105.0],\n",
       " 25: [0, 1, 6.2136474479915726, 32.0],\n",
       " 26: [9, 23, 6.2392993858482182, 95.0],\n",
       " 27: [24, 26, 6.5050671137787885, 200.0],\n",
       " 28: [25, 27, 7.1302767606380018, 232.0],\n",
       " 29: [13, 20, 7.7383803302348309, 55.0],\n",
       " 30: [28, 29, 10.781118163353298, 287.0]}"
      ]
     },
     "execution_count": 115,
     "metadata": {},
     "output_type": "execute_result"
    }
   ],
   "source": [
    "fullZdicCheck={}\n",
    "num_points = len(truncatedZ) + 1 # len(Z)= n - 1\n",
    "for i, link in enumerate(truncatedZ):\n",
    "    fullZdicCheck[num_points+i]= link\n",
    "fullZdicCheck"
   ]
  },
  {
   "cell_type": "code",
   "execution_count": null,
   "metadata": {
    "collapsed": true
   },
   "outputs": [],
   "source": []
  }
 ],
 "metadata": {
  "kernelspec": {
   "display_name": "Python 3",
   "language": "python",
   "name": "python3"
  },
  "language_info": {
   "codemirror_mode": {
    "name": "ipython",
    "version": 3
   },
   "file_extension": ".py",
   "mimetype": "text/x-python",
   "name": "python",
   "nbconvert_exporter": "python",
   "pygments_lexer": "ipython3",
   "version": "3.6.0"
  }
 },
 "nbformat": 4,
 "nbformat_minor": 1
}
