{
 "cells": [
  {
   "cell_type": "code",
   "execution_count": 2,
   "metadata": {
    "collapsed": true
   },
   "outputs": [],
   "source": [
    "import numpy as np"
   ]
  },
  {
   "cell_type": "code",
   "execution_count": null,
   "metadata": {
    "collapsed": true
   },
   "outputs": [],
   "source": []
  },
  {
   "cell_type": "code",
   "execution_count": 4,
   "metadata": {
    "collapsed": true
   },
   "outputs": [],
   "source": [
    "sim = np.load('/scratch2/esadrfa/moliere/hiv/sim_matrix.npy')"
   ]
  },
  {
   "cell_type": "code",
   "execution_count": 3,
   "metadata": {
    "collapsed": true
   },
   "outputs": [],
   "source": [
    "dist = np.load('/scratch2/esadrfa/moliere/hiv/dist_matrix.npy')"
   ]
  },
  {
   "cell_type": "code",
   "execution_count": 14,
   "metadata": {
    "collapsed": true
   },
   "outputs": [],
   "source": [
    "dist_inv = np.load('/scratch2/esadrfa/moliere/hiv/dist_matrix_inverse.npy')"
   ]
  },
  {
   "cell_type": "code",
   "execution_count": 5,
   "metadata": {},
   "outputs": [
    {
     "data": {
      "text/plain": [
       "False"
      ]
     },
     "execution_count": 5,
     "metadata": {},
     "output_type": "execute_result"
    }
   ],
   "source": [
    "np.array_equal(sim, dist)"
   ]
  },
  {
   "cell_type": "code",
   "execution_count": 16,
   "metadata": {},
   "outputs": [
    {
     "name": "stdout",
     "output_type": "stream",
     "text": [
      "sim      min: 0.11864447909500547, max: 1.000000000000441\n",
      "dist_exp min: 0.3678794411712801, max:0.888123491108672\n"
     ]
    }
   ],
   "source": [
    "print('sim      min: {}, max: {}'.format(np.min(sim),np.max(sim)))\n",
    "print('dist_exp min: {}, max:{}'.format(np.min(dist),np.max(dist)))\n"
   ]
  },
  {
   "cell_type": "code",
   "execution_count": 15,
   "metadata": {},
   "outputs": [
    {
     "name": "stdout",
     "output_type": "stream",
     "text": [
      "dist_inv min: 0.9999000099985592, max:8.421444159942094\n"
     ]
    }
   ],
   "source": [
    "print('dist_inv min: {}, max:{}'.format(np.min(dist_inv),np.max(dist_inv)))"
   ]
  },
  {
   "cell_type": "code",
   "execution_count": 7,
   "metadata": {},
   "outputs": [
    {
     "data": {
      "text/plain": [
       "array([[ 0.40114396,  0.36787944,  0.46711952, ...,  0.75469104,\n",
       "         0.75438644,  0.75647994],\n",
       "       [ 0.46711952,  0.46711952,  0.36787944, ...,  0.79094161,\n",
       "         0.79045515,  0.7925036 ],\n",
       "       [ 0.68623107,  0.68623107,  0.73068451, ...,  0.78289264,\n",
       "         0.78469565,  0.78608521],\n",
       "       ..., \n",
       "       [ 0.68620424,  0.68620424,  0.73066071, ...,  0.7850237 ,\n",
       "         0.78364458,  0.78653062],\n",
       "       [ 0.67602253,  0.67602253,  0.72161532, ...,  0.77734324,\n",
       "         0.77582244,  0.77868423],\n",
       "       [ 0.68157391,  0.68157391,  0.72654994, ...,  0.78144374,\n",
       "         0.77948961,  0.78299081]])"
      ]
     },
     "execution_count": 7,
     "metadata": {},
     "output_type": "execute_result"
    }
   ],
   "source": [
    "dist[1:10]"
   ]
  }
 ],
 "metadata": {
  "kernelspec": {
   "display_name": "Python 3 (Anaconda)",
   "language": "python",
   "name": "anaconda_py3"
  },
  "language_info": {
   "codemirror_mode": {
    "name": "ipython",
    "version": 3
   },
   "file_extension": ".py",
   "mimetype": "text/x-python",
   "name": "python",
   "nbconvert_exporter": "python",
   "pygments_lexer": "ipython3",
   "version": "3.5.2"
  }
 },
 "nbformat": 4,
 "nbformat_minor": 2
}
